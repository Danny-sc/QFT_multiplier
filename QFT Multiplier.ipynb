{
 "cells": [
  {
   "cell_type": "markdown",
   "id": "9fada818",
   "metadata": {},
   "source": [
    "# Quantum Fourier Transform multiplier"
   ]
  },
  {
   "cell_type": "markdown",
   "id": "d3e556ea",
   "metadata": {},
   "source": [
    "In this Notebook we build a quantum circuit to multiply two non-negative integers implementing the Quantum Fourier Transform (QFT) multiplier described in section 7 of \n",
    "[Quantum Arithmetic with the Quantum Fourier Transform](https://arxiv.org/pdf/1411.5949.pdf).\n",
    "\n",
    "Let $a$ and $b$ be two non-negative integers, with binary representations:\n",
    "\n",
    "$|a> = |a_1>\\otimes |a_2>\\otimes ... \\otimes|a_n>$ \n",
    "\n",
    "$|b> = |b_1>\\otimes |b_2>\\otimes ... \\otimes|b_n>$.\n",
    "\n",
    "The algorithm proposed by Ruiz-Perez and Garcia-Escartin to multiply $a$ and $b$ can be subdivided in 4 steps:\n",
    "\n",
    "* 1\\. Build a circuit with $4n$ qubits, where\n",
    "   *  qubits of indexes $0,...,2n-1$ start as zeroes and will contain the product of $a$ and $b$ at the end of the algorithm,\n",
    "   *  $a$ is stored in qubits of indexes $2n,2n+1,...,3n-1$,\n",
    "   *  $b$ is stored in qubits of indexes $3n,3n+1,...,4n-1$.\n",
    "* 2\\. Calculate the QFT of the first $2n$ qubits of the circuit, i.e. the QFT of $0$.\n",
    "* 3\\. Since $ab=b_n 2^0 a + b_{n-1} 2^1 a +...+ b_1 2^{n-1} a,$ the product $ab$ can be obtained by adding $b_n 2^0 a$ to $0$, then adding $ b_{n-1} 2^1 a$, and so on till $ b_1 2^{n-1} a$. All these additions are implemented using rotation gates:\n",
    "    * 3.1\\. If $b_n=1$, perform a series of rotation gates on the first $2n$ qubits, controlled by the qubits of $|a>$, to modify the QFT of $0$ into the QFT of $0+b_n 2^0 a$.\n",
    "    * 3.2\\. If $b_{n-1}=1$, perform a series of rotation gates on the first $2n$ qubits, controlled by the qubits of $|a>$, to modify the QFT of $0+b_n 2^0 a$ into the QFT of $b_n 2^0 a + b_{n-1} 2^1 a$.\n",
    "    *  ...\n",
    "    * 3.n\\. If $b_{1}=1$, perform a series of rotation gates on the first $2n$ qubits, controlled by the qubits of $|a>$, to modify the QFT of $0+b_n 2^0 a+ b_{n-1} 2^1 a +...+ b_2 2^{n-2} a$ into the QFT of $0+b_n 2^0 a + b_{n-1} 2^1 a +...+ b_1 2^{n-1} a$, i.e. the QFT of $ab$.\n",
    "* 4\\. Finally, apply the inverse of the QFT to the first $2n$ qubits to get the product $ab$.\n",
    "\n",
    "The figure below shows the four steps of the QFT multiplier:"
   ]
  },
  {
   "cell_type": "markdown",
   "id": "55cd770f",
   "metadata": {},
   "source": [
    "|<img src=\"Images/Diagram_circuit.JPG\" width=\"800\"/> |\n",
    "|:--:|\n",
    "| Figure 1: QFT multiplier as a concatenation of controlled weighted sum blocks|"
   ]
  },
  {
   "cell_type": "markdown",
   "id": "9e3884f7",
   "metadata": {},
   "source": [
    "## The Quantum Fourier Transform"
   ]
  },
  {
   "cell_type": "markdown",
   "id": "d4ea21a8",
   "metadata": {},
   "source": [
    "The QFT and its inverse are key components of the QFT multiplier. The function `qft`, which performs the QFT and the function `inverse_qft`, which performs its inverse are imported from the file `qft.py`. "
   ]
  },
  {
   "cell_type": "code",
   "execution_count": 1,
   "id": "8ed76c9c",
   "metadata": {},
   "outputs": [],
   "source": [
    "from qiskit import(QuantumCircuit, execute, Aer)\n",
    "from qiskit.visualization import plot_histogram\n",
    "from numpy import pi\n",
    "from qft import(qft, inverse_qft)"
   ]
  },
  {
   "cell_type": "markdown",
   "id": "5503c154",
   "metadata": {},
   "source": [
    "The function `qft` takes a circuit and a number $n$, and performs the QFT on the first $n$ qubits of the circuit. Note that the output of `qft` gives the QFT in reverse order. Of course, one could add a series of swap gates at the end of the circuit to obtain the QFT in the correct order; we decided not to do so, in order to reduce the number of gates used. The fact that `qft` outputs the QFT in reverse order is then taken into account when performing the rotation gates in step 3 of the algorithm.\n",
    "\n",
    "Below is a simple example of application of `qft` on a circuit with 4 qubits:"
   ]
  },
  {
   "cell_type": "code",
   "execution_count": 2,
   "id": "ccdb07c2",
   "metadata": {},
   "outputs": [
    {
     "data": {
      "image/png": "[encoded data removed]",
      "text/plain": [
       "<Figure size 1049.8x264.88 with 1 Axes>"
      ]
     },
     "execution_count": 2,
     "metadata": {},
     "output_type": "execute_result"
    }
   ],
   "source": [
    "circuit = QuantumCircuit(4) \n",
    "circuit = qft(circuit,4)\n",
    "circuit.draw(output='mpl')"
   ]
  },
  {
   "cell_type": "markdown",
   "id": "9a0b3fc2",
   "metadata": {},
   "source": [
    "Similarly, the function `inverse_qft` takes a circuit and a number $n$ and performs the inverse QFT on the first $n$ qubits of the circuit."
   ]
  },
  {
   "cell_type": "markdown",
   "id": "9b700e75",
   "metadata": {},
   "source": [
    "## The `qft_multiplier` function "
   ]
  },
  {
   "cell_type": "markdown",
   "id": "a4349cd4",
   "metadata": {},
   "source": [
    "In this section we define our main function, `qft_multiplier`, which takes two non-negative integers and prints out their product. Internally the function performs the following steps:\n",
    "- it gets the binary representations of $a$ and $b$, ensuring that the two representations have the same length n_bit (adding zeroes to the representation of the shorter number, if needed);\n",
    "- it creates a circuit with 4n_bit qubits, encoding $a$ in qubits of indexes 2n_bit, 2n_bit +1,...,3n_bit-1, and $b$ in qubits of indexes 3n_bit, 3n_bit+1,...,4n_bit-1;\n",
    "- it applies `qft` to the first 2n_bit  qubits of the circuit;\n",
    "- it performs all necessary rotation gates on the first 2n_bit qubits to modify them into the QFT of $ab$;\n",
    "- it applies `inverse_qft` to the first 2n_bit  qubits;\n",
    "- it measures the first 2n_bit qubits;\n",
    "- it runs the circuit on the `qasm_simulator` and returns the result in decimal form."
   ]
  },
  {
   "cell_type": "code",
   "execution_count": 3,
   "id": "a9828d22",
   "metadata": {},
   "outputs": [],
   "source": [
    "def qft_multiplier(a, b):\n",
    "    n_bit = max(a.bit_length(), b.bit_length())\n",
    "    binary_format = '0'+str(n_bit)+'b'\n",
    "    a_bin = format(a, binary_format) \n",
    "    b_bin = format(b, binary_format) \n",
    "    circuit = QuantumCircuit(4*n_bit, 2*n_bit) \n",
    "    # a is encoded in qubits indexed 2n to 3n-1, with the least significant bit \n",
    "    # encoded in the qubit of index 2n \n",
    "    # b is encoded in the last n qubits of the circuit, with the least \n",
    "    # significant bit encoded in the qubit of index 3n\n",
    "    for i in range(n_bit):\n",
    "        if a_bin[i]=='1': \n",
    "            circuit.x(3*n_bit-1-i) \n",
    "        if b_bin[i]=='1': \n",
    "            circuit.x(4*n_bit-1-i) \n",
    "    # Apply `qft` to the first 2n qubits, containing all zeroes \n",
    "    circuit =  qft(circuit, 2*n_bit) \n",
    "    for j in range(1, n_bit+1):\n",
    "        # Apply all necessary rotation gates to add b_{j} 2^{n-j} a \n",
    "        if b_bin[j-1]=='1': \n",
    "            for s in range(1, 2*n_bit+1):\n",
    "                if n_bit>(2*n_bit-j-s):\n",
    "                    i_min = max(1, 2*n_bit-j-s+1)\n",
    "                    for i in range(i_min, n_bit+1):\n",
    "                        circuit.cp(pi/(2**(j+s-2*n_bit+i-1)), 3*n_bit-i, s-1) \n",
    "    # Apply the inverse QFT to the first 2n qubits\n",
    "    circuit = inverse_qft(circuit, 2*n_bit) \n",
    "    # Measure the first 2n qubits\n",
    "    circuit.measure(range(2*n_bit), range(2*n_bit)) \n",
    "    simulator = Aer.get_backend('qasm_simulator')\n",
    "    job = execute(circuit, simulator, shots=1) \n",
    "    result = job.result()\n",
    "    counts = result.get_counts(circuit)\n",
    "    # Get the product of a and b (according to the circuit) as a decimal number\n",
    "    product = int(list(counts.keys())[0], 2) \n",
    "    print('QFT multiplier output:', product, '\\nCorrect answer:', a*b)\n",
    "    return (circuit, result)"
   ]
  },
  {
   "cell_type": "markdown",
   "id": "bf7a16ba",
   "metadata": {},
   "source": [
    "Since there is no noise in the circuit, running it twice will always give the same result: this is why we set `shots=1` in the `execute` function. (See Section `Adding noise to the qasm_simulator` for a version of the `qft_multiplier` with noise.)\n",
    "\n",
    "The `qft_multiplier` function prints out the calculated product and also the correct product, so that the user can easily check if the calculated product is correct. The `qft_multiplier` function returns the circuit built to perform the multiplication and the result of its execution. These objects will be useful in the next Sections, when we analyze the performance of our QFT multiplier.\n",
    "\n",
    "Below we show three examples of use of `qft_multiplier`, with integers of increasing size:"
   ]
  },
  {
   "cell_type": "code",
   "execution_count": 4,
   "id": "6fca5857",
   "metadata": {},
   "outputs": [
    {
     "name": "stdout",
     "output_type": "stream",
     "text": [
      "QFT multiplier output: 63 \n",
      "Correct answer: 63\n"
     ]
    }
   ],
   "source": [
    "product = qft_multiplier(7,9)"
   ]
  },
  {
   "cell_type": "code",
   "execution_count": 5,
   "id": "937adb4c",
   "metadata": {},
   "outputs": [
    {
     "name": "stdout",
     "output_type": "stream",
     "text": [
      "QFT multiplier output: 3196 \n",
      "Correct answer: 3196\n"
     ]
    }
   ],
   "source": [
    "product = qft_multiplier(47,68)"
   ]
  },
  {
   "cell_type": "code",
   "execution_count": 6,
   "id": "d9b3c27c",
   "metadata": {},
   "outputs": [
    {
     "name": "stdout",
     "output_type": "stream",
     "text": [
      "QFT multiplier output: 46098 \n",
      "Correct answer: 46098\n"
     ]
    }
   ],
   "source": [
    "product = qft_multiplier(234,197)"
   ]
  },
  {
   "cell_type": "markdown",
   "id": "968a27fc",
   "metadata": {},
   "source": [
    "The defined `qft_multiplier`, which uses the `qasm_simulator`, works well for $a$ and $b$ up to $2^{12}$."
   ]
  },
  {
   "cell_type": "markdown",
   "id": "d48915a9",
   "metadata": {},
   "source": [
    "## Analysis of the `qft_multiplier function` "
   ]
  },
  {
   "cell_type": "markdown",
   "id": "0cf35ba1",
   "metadata": {},
   "source": [
    "In this section we analyze the defined QFT multiplier circuit, which uses $4n$ qubits, where $n$ is the number of bits in the binary representation of the largest between $a$ and $b$. We will investigate the number of operations and the depth of our QFT multiplier circuit as a function of the number of bits needed to encode $a$ and $b$. \n",
    "\n",
    "If $a$ and $b$ have binary representation with $n$ bits, i.e.  $2^{n-1} \\leq a,b <2^n$, we expect the minimum number of operations and the minimum depth to be realized when $a=b=2^{n-1}$. In such case, $a_1=b_1=1$ and $a_i=b_i=0$ for $i=2,3,...,n$: this minimizes the gates needed to encode $a$ and $b$ and the number of gates in Step 3 of the algorithm (since nothing will happen in Steps 3.1, 3.2, ..., 3.n-1). Similarly, we expect the maximum number of operations and the maximum depth to be realized when $a=b=2^{n}-1$. In such case, $a_i=b_i=1$ for $i=1,2,...,n$: this maximizes the gates needed to encode $a$ and $b$ and the number of gates in Step 3 of the algorithm (since an addition will be performed at Step 3.i, for each $i=1,...,n$).\n",
    "Following this rationale, we ran the `qft_multiplier` circuit for $a=b=2^i$ and $a=b=2^{i+1} -1$ for $i=1,...,10$.\n",
    "\n",
    "To check that our rationale was correct, we also ran the circuit for random pairs of positive integers $a$ and $b$.  The table below shows how many random multiplications where performed as a function of the number of bits in the binary representation of $a$ and $b$\n",
    "\n",
    "|Number of bits | Range for $a$ and $b$ | Number of random pairs multiplied  | \n",
    "|---|---|---|\n",
    "|3| $$2^2 \\leq a,b <2^3$$  |  1 |  \n",
    "|4| $$2^3\\leq a,b <2^4$$ | 3  |  \n",
    "|5| $$2^4\\leq a,b <2^5$$  |  7 |  \n",
    "|6| $$2^5\\leq a,b <2^6$$  |   9|  \n",
    "|7| $$2^6\\leq a,b <2^7$$  |  11 |   \n",
    "|8| $$2^7\\leq a,b <2^8$$  |  13 |   \n",
    "|9| $$2^8\\leq a,b <2^9$$  |  15 |  \n",
    "|10| $$2^9\\leq a,b <2^{10}$$  |  17 |   \n",
    "|11| $$2^{10}\\leq a,b <2^{11}$$  |  19 |  \n",
    "\n",
    "The plot in Figure 2 shows:\n",
    "- the number of operations in the `qft_multiplier` circuit for $a=b=2^i$ for $i=1,...,10$ (blue line)\n",
    "- the number of operations  in the `qft_multiplier` circuit for $a=b=2^{i+1}-1$ for $i=1,...,10$ (orange line)\n",
    "- the number of operations  in the `qft_multiplier` circuit for all the random pairs of integers explored.\n",
    "\n",
    "We clearly see that the number of operations for the multiplication of the explored random pairs of integers are all in between the expected minimum and maximum numbers of operations."
   ]
  },
  {
   "cell_type": "markdown",
   "id": "e3d16189",
   "metadata": {},
   "source": [
    "|<img src=\"Images/Length_analysis.png\" alt=\"drawing\" width=\"800\"/> |\n",
    "|:--:|\n",
    "| Figure 2: Number of operations of qft_multiplier circuit as a function of the number of bits in a (and b)."
   ]
  },
  {
   "cell_type": "markdown",
   "id": "45c7a8eb",
   "metadata": {},
   "source": [
    "Note that the plot above is in accordance with the fact that the QFT multiplier needs $O(n^3)$ gates for integers encoded with $n$ bits."
   ]
  },
  {
   "cell_type": "markdown",
   "id": "7abd1726",
   "metadata": {},
   "source": [
    "Similarly, the plot in Figure 3 shows:\n",
    "- the depth of the `qft_multiplier` circuit for $a=b=2^i$ for $i=1,...,10$ (blue line)\n",
    "- the depth of the `qft_multiplier` circuit for $a=b=2^{i+1}-1$ for $i=1,...,10$ (orange line)\n",
    "- the depth of the `qft_multiplier` circuit for all the random pairs of integers explored.\n",
    "\n",
    "Again, we see that the depths for the multiplication of the explored random pairs of integers are all in between the expected minimum and maximum depths."
   ]
  },
  {
   "cell_type": "markdown",
   "id": "ef9c8fa0",
   "metadata": {},
   "source": [
    "|<img src=\"Images/Depth_analysis.png\" alt=\"drawing\" width=\"800\"/> |\n",
    "|:--:|\n",
    "| Figure 3: Depth of the qft_multiplier circuit as a function of the number of bits in a (and b)."
   ]
  },
  {
   "cell_type": "markdown",
   "id": "bd38ebdc",
   "metadata": {},
   "source": [
    "The plots in Figure 2 and Figure 3 were produced with the code in the file `depth_length_analysis.py`."
   ]
  },
  {
   "cell_type": "markdown",
   "id": "97e44e8d",
   "metadata": {},
   "source": [
    "## Adding noise to the `qasm_simulator`"
   ]
  },
  {
   "cell_type": "markdown",
   "id": "5a3474bc",
   "metadata": {},
   "source": [
    "It is interesting to evaluate the performance of our `qft_multiplier` under the presence of noise. For this reason, we create the depolarizing error channel\n",
    "$$\\epsilon(p) = (1-p)\\rho + (p/3)(X\\rho X + Y\\rho Y + Z\\rho Z) $$ \n",
    "\n",
    "where $p$ is a parameter between $0$ and $1$.\n"
   ]
  },
  {
   "cell_type": "code",
   "execution_count": 4,
   "id": "58cfe4c5",
   "metadata": {},
   "outputs": [],
   "source": [
    "from qiskit.providers.aer.noise import NoiseModel\n",
    "from qiskit.providers.aer.noise.errors import depolarizing_error\n",
    "def get_noise(p):  \n",
    "    # Create the depolarizing error channel with parameter p on a single qubit\n",
    "    depo_err_chan = depolarizing_error((4*p)/3, 1)\n",
    "    # Create the noise model to be used during execution.\n",
    "    noise_model = NoiseModel()\n",
    "    noise_model.add_all_qubit_quantum_error(depo_err_chan, \"measure\") \n",
    "    return noise_model, depo_err_chan"
   ]
  },
  {
   "cell_type": "markdown",
   "id": "9f71804d",
   "metadata": {},
   "source": [
    "An example of use of the depolarizing channel with parameter $p=0.01$ is shown below:"
   ]
  },
  {
   "cell_type": "code",
   "execution_count": 5,
   "id": "43675f9f",
   "metadata": {},
   "outputs": [
    {
     "name": "stdout",
     "output_type": "stream",
     "text": [
      "QFT multiplier output: 36 \n",
      "Correct answer: 36\n",
      "Most common value:  36\n"
     ]
    },
    {
     "data": {
      "image/png": "[encoded data removed]",
      "text/plain": [
       "<Figure size 504x360 with 1 Axes>"
      ]
     },
     "execution_count": 5,
     "metadata": {},
     "output_type": "execute_result"
    }
   ],
   "source": [
    "noise_model, depo_err_chan = get_noise(0.01)\n",
    "a=4\n",
    "b=9\n",
    "qc = qft_multiplier(a,b)[0]\n",
    "counts = execute(qc, Aer.get_backend('qasm_simulator'), \n",
    "                  noise_model=noise_model,\n",
    "                  shots=1000).result().get_counts()\n",
    "print('Most common value: ', int(max(counts, key=counts.get),2))\n",
    "plot_histogram(counts)"
   ]
  },
  {
   "cell_type": "markdown",
   "id": "3cfeec89",
   "metadata": {},
   "source": [
    "The correct result is obtained on $95.3\\%$ of the $1000$ shots run.\n",
    "\n",
    "Let's try to increase the parameter $p$ and see the percentage of correct shots for the same values of $a$ and $b$."
   ]
  },
  {
   "cell_type": "code",
   "execution_count": 6,
   "id": "007ec4f2",
   "metadata": {},
   "outputs": [
    {
     "name": "stdout",
     "output_type": "stream",
     "text": [
      "QFT multiplier output: 36 \n",
      "Correct answer: 36\n",
      "Most common value:  36\n"
     ]
    },
    {
     "data": {
      "image/png": "[encoded data removed]",
      "text/plain": [
       "<Figure size 504x360 with 1 Axes>"
      ]
     },
     "execution_count": 6,
     "metadata": {},
     "output_type": "execute_result"
    }
   ],
   "source": [
    "noise_model, depo_err_chan = get_noise(0.05)\n",
    "a=4\n",
    "b=9\n",
    "qc = qft_multiplier(a,b)[0]\n",
    "counts = execute(qc, Aer.get_backend('qasm_simulator'), \n",
    "                  noise_model=noise_model,\n",
    "                  shots=1000).result().get_counts()\n",
    "print('Most common value: ', int(max(counts, key=counts.get),2))\n",
    "plot_histogram(counts)"
   ]
  },
  {
   "cell_type": "markdown",
   "id": "ababfde8",
   "metadata": {},
   "source": [
    "As expected, we now get the correct result less frequently ($77.9\\%$ of the time) and the number of different outcomes has increased."
   ]
  },
  {
   "cell_type": "markdown",
   "id": "d2072b05",
   "metadata": {},
   "source": [
    "To analyse the performance of this noisy version of the QFT multiplier systematically, we ran it for random pairs of $a$ and $b$ with $2,3,4,5$ bits. For each pair, the noisy circuit was run 1000 times and the proportion of correct shots saved. The table below shows how many random multiplications where performed as a function of the number of bits in the binary representation of $a$ and $b$\n",
    "\n",
    "| Number of bits | Range for $a$ and $b$ | Number of random pairs multiplied | Number of all possible pairs | Percentage of all pairs explored |\n",
    "|---|---|---|---|---|\n",
    "|2| $$2^1 \\leq a,b <2^2$$  |  3 | 3  | 100% |\n",
    "|3| $$2^2 \\leq a,b <2^3$$  |  10 | 10 | 100% |\n",
    "|4| $$2^3\\leq a,b <2^4$$ | 16  | 36 | 44% |\n",
    "|5| $$2^4\\leq a,b <2^5$$  |  32 | 136 | 24% |\n",
    "\n",
    "As the table shows, the percentage of pairs explored decreases with the number of bits: this choice was dictated by the limited computing resources we had available. \n",
    "\n",
    "Figure 4 below shows boxplots for the proportion of corrects shots out of $1000$ as a function of the parameter $p$, for $a$ and $b$ with $2,3,4,5$ bits."
   ]
  },
  {
   "cell_type": "markdown",
   "id": "587422ad",
   "metadata": {},
   "source": [
    "|<img src=\"Images/Noise_analysis_4in1.PNG\" alt=\"drawing\" width=\"800\"/> |\n",
    "|:--:|\n",
    "| Figure 4: Boxplots of the proportion of correct shots out of 1000 for the QFT multiplier circuit with depolarizing error channel."
   ]
  },
  {
   "cell_type": "markdown",
   "id": "18a7a34f",
   "metadata": {},
   "source": [
    "We see that for $p \\leq 0.025$ the noisy circuit provides the correct answer at least $80%$ of the time for numbers up to $5$ digits. The performance of the noisy circuit is instead quite untrustworthy for values of $p\\geq 0.1$. These observations are confirmed by Figure 5, where the average proportion of correct shots is plotted for different values of $p$ and different number of bits in $a$ and $b$:"
   ]
  },
  {
   "cell_type": "markdown",
   "id": "b3aa7e6f",
   "metadata": {
    "scrolled": false
   },
   "source": [
    "|<img src=\"Images/Noise_analysis_allbits.png\" alt=\"drawing\" width=\"800\"/> |\n",
    "|:--:|\n",
    "| Figure 5: Average proportion of correct shots out of 1000 for the QFT multiplier circuit with depolarizing error channel."
   ]
  },
  {
   "cell_type": "markdown",
   "id": "9aeef984",
   "metadata": {},
   "source": [
    "The plots in Figure 4 and Figure 5 were produced with the code in the file `Noise_analysis.py`."
   ]
  }
 ],
 "metadata": {
  "kernelspec": {
   "display_name": "Python 3 (ipykernel)",
   "language": "python",
   "name": "python3"
  },
  "language_info": {
   "codemirror_mode": {
    "name": "ipython",
    "version": 3
   },
   "file_extension": ".py",
   "mimetype": "text/x-python",
   "name": "python",
   "nbconvert_exporter": "python",
   "pygments_lexer": "ipython3",
   "version": "3.9.12"
  }
 },
 "nbformat": 4,
 "nbformat_minor": 5
}
